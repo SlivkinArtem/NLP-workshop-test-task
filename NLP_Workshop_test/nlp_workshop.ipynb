{
  "nbformat": 4,
  "nbformat_minor": 0,
  "metadata": {
    "colab": {
      "provenance": []
    },
    "kernelspec": {
      "name": "python3",
      "display_name": "Python 3"
    },
    "language_info": {
      "name": "python"
    }
  },
  "cells": [
    {
      "cell_type": "code",
      "execution_count": null,
      "metadata": {
        "id": "vzOf53vy9Hii"
      },
      "outputs": [],
      "source": [
        "import numpy as np\n",
        "import pandas as pd"
      ]
    },
    {
      "cell_type": "code",
      "source": [
        "import zipfile\n",
        "\n",
        "# Откройте zip-архив\n",
        "with zipfile.ZipFile('archive.zip', 'r') as zip_ref:\n",
        "    # Прочитайте файлы в память\n",
        "    with zip_ref.open('sample_submission.csv') as file:\n",
        "        df = pd.read_csv(file)\n",
        "    with zip_ref.open('train.csv') as file:\n",
        "        train = pd.read_csv(file)\n",
        "    with zip_ref.open('test.csv') as file:\n",
        "        test = pd.read_csv(file)"
      ],
      "metadata": {
        "id": "zMoAMHjm9lBR"
      },
      "execution_count": null,
      "outputs": []
    },
    {
      "cell_type": "markdown",
      "source": [
        "### Датасет train"
      ],
      "metadata": {
        "id": "XGi8-4uv0zAP"
      }
    },
    {
      "cell_type": "code",
      "source": [
        "print('Dataset size', train.shape)\n",
        "\n",
        "num_rows, num_feature = train.shape\n",
        "\n",
        "print('row number: ', num_rows)\n",
        "print('feature number: ', num_feature)\n",
        "print()\n",
        "print('names of features: ', list(train))"
      ],
      "metadata": {
        "colab": {
          "base_uri": "https://localhost:8080/"
        },
        "id": "45HvcUTNBNbK",
        "outputId": "99812a2a-8aa3-4819-efce-43661f74762f"
      },
      "execution_count": null,
      "outputs": [
        {
          "output_type": "stream",
          "name": "stdout",
          "text": [
            "Dataset size (38740, 3)\n",
            "row number:  38740\n",
            "feature number:  3\n",
            "\n",
            "names of features:  ['oid', 'category', 'text']\n"
          ]
        }
      ]
    },
    {
      "cell_type": "code",
      "source": [
        "vc = train['category'].value_counts()\n",
        "vc"
      ],
      "metadata": {
        "colab": {
          "base_uri": "https://localhost:8080/"
        },
        "id": "_spwlq25BpDU",
        "outputId": "6e4f014a-0326-4670-a015-a01794baff09"
      },
      "execution_count": null,
      "outputs": [
        {
          "output_type": "execute_result",
          "data": {
            "text/plain": [
              "autosport       3160\n",
              "extreme         3110\n",
              "martial_arts    3050\n",
              "motosport       3030\n",
              "boardgames      3020\n",
              "tennis          3000\n",
              "esport          2990\n",
              "athletics       2970\n",
              "hockey          2950\n",
              "volleyball      2950\n",
              "football        2860\n",
              "basketball      2850\n",
              "winter_sport    2800\n",
              "Name: category, dtype: int64"
            ]
          },
          "metadata": {},
          "execution_count": 4
        }
      ]
    },
    {
      "cell_type": "code",
      "source": [
        "rslt_train = train.sample(frac=0.15, replace=True, random_state=1) # отбор 15% строк от исходного датасета, чтобы быстрее обучалось"
      ],
      "metadata": {
        "id": "K0BlLw_7yRZa"
      },
      "execution_count": null,
      "outputs": []
    },
    {
      "cell_type": "code",
      "source": [
        "print(rslt_train.head(10))"
      ],
      "metadata": {
        "colab": {
          "base_uri": "https://localhost:8080/"
        },
        "id": "snudt2ncySf9",
        "outputId": "679b67bb-7772-4a1e-dca8-baf5564bdcd6"
      },
      "execution_count": null,
      "outputs": [
        {
          "output_type": "stream",
          "name": "stdout",
          "text": [
            "             oid      category  \\\n",
            "33003  711989171  winter_sport   \n",
            "12172  638513466  martial_arts   \n",
            "5192   318047892        esport   \n",
            "32511  580113489     autosport   \n",
            "7813   602662466        tennis   \n",
            "21440  472506655    volleyball   \n",
            "32912  227965168    basketball   \n",
            "20609   94534649        esport   \n",
            "7751   441546566    boardgames   \n",
            "31228  282153752  winter_sport   \n",
            "\n",
            "                                                    text  \n",
            "33003  Лыжная сборная перед Олимпиадой 2018 Будучи со...  \n",
            "12172  Наталья появилась на прошедшем выпуске NXT и а...  \n",
            "5192   Привет 33 Хотим представить вам новый киберспо...  \n",
            "32511  GTWortokenoid 9 этап Валенсия. Квалификация 2....  \n",
            "7813   Петра Квитова на пресс конференции в преддвери...  \n",
            "21440  История которая стала хитом Ярославль Комус Фе...  \n",
            "32912  Ну и главная новость Малик Монк покидает Лейке...  \n",
            "20609  За шо. . . . Ивент китайского коллекционера це...  \n",
            "7751   Уже совсем скоро ждем вторую комикс игру серии...  \n",
            "31228  Двукратный олимпийский чемпион Сочи 2014 бронз...  \n"
          ]
        }
      ]
    },
    {
      "cell_type": "code",
      "source": [
        "# востановим индексы\n",
        "newdf =rslt_train.reset_index()\n",
        "print('Dataset size', newdf.shape)\n",
        "num_rows, num_feature =newdf.shape"
      ],
      "metadata": {
        "colab": {
          "base_uri": "https://localhost:8080/"
        },
        "id": "wV23J9gS6wW-",
        "outputId": "e6377d08-cd12-4e0b-a108-6e1fd2d564f3"
      },
      "execution_count": null,
      "outputs": [
        {
          "output_type": "stream",
          "name": "stdout",
          "text": [
            "Dataset size (5811, 4)\n"
          ]
        }
      ]
    },
    {
      "cell_type": "code",
      "source": [
        "!pip install pymorphy2"
      ],
      "metadata": {
        "colab": {
          "base_uri": "https://localhost:8080/"
        },
        "id": "ZDGjZewKWNEV",
        "outputId": "ec7751e4-c40a-4e56-bc24-4b2b579b003f"
      },
      "execution_count": null,
      "outputs": [
        {
          "output_type": "stream",
          "name": "stdout",
          "text": [
            "Collecting pymorphy2\n",
            "  Downloading pymorphy2-0.9.1-py3-none-any.whl (55 kB)\n",
            "\u001b[?25l     \u001b[90m━━━━━━━━━━━━━━━━━━━━━━━━━━━━━━━━━━━━━━━━\u001b[0m \u001b[32m0.0/55.5 kB\u001b[0m \u001b[31m?\u001b[0m eta \u001b[36m-:--:--\u001b[0m\r\u001b[2K     \u001b[90m━━━━━━━━━━━━━━━━━━━━━━━━━━━━━━━━━━━━━━━━\u001b[0m \u001b[32m55.5/55.5 kB\u001b[0m \u001b[31m2.1 MB/s\u001b[0m eta \u001b[36m0:00:00\u001b[0m\n",
            "\u001b[?25hCollecting dawg-python>=0.7.1 (from pymorphy2)\n",
            "  Downloading DAWG_Python-0.7.2-py2.py3-none-any.whl (11 kB)\n",
            "Collecting pymorphy2-dicts-ru<3.0,>=2.4 (from pymorphy2)\n",
            "  Downloading pymorphy2_dicts_ru-2.4.417127.4579844-py2.py3-none-any.whl (8.2 MB)\n",
            "\u001b[2K     \u001b[90m━━━━━━━━━━━━━━━━━━━━━━━━━━━━━━━━━━━━━━━━\u001b[0m \u001b[32m8.2/8.2 MB\u001b[0m \u001b[31m60.5 MB/s\u001b[0m eta \u001b[36m0:00:00\u001b[0m\n",
            "\u001b[?25hCollecting docopt>=0.6 (from pymorphy2)\n",
            "  Downloading docopt-0.6.2.tar.gz (25 kB)\n",
            "  Preparing metadata (setup.py) ... \u001b[?25l\u001b[?25hdone\n",
            "Building wheels for collected packages: docopt\n",
            "  Building wheel for docopt (setup.py) ... \u001b[?25l\u001b[?25hdone\n",
            "  Created wheel for docopt: filename=docopt-0.6.2-py2.py3-none-any.whl size=13706 sha256=9e12d9aa7951a6b2c1a545aa6c5e7f2e66e0cc4d688f01f246e90b529f78e716\n",
            "  Stored in directory: /root/.cache/pip/wheels/fc/ab/d4/5da2067ac95b36618c629a5f93f809425700506f72c9732fac\n",
            "Successfully built docopt\n",
            "Installing collected packages: pymorphy2-dicts-ru, docopt, dawg-python, pymorphy2\n",
            "Successfully installed dawg-python-0.7.2 docopt-0.6.2 pymorphy2-0.9.1 pymorphy2-dicts-ru-2.4.417127.4579844\n"
          ]
        }
      ]
    },
    {
      "cell_type": "code",
      "source": [
        "import nltk\n",
        "nltk.download('punkt')"
      ],
      "metadata": {
        "colab": {
          "base_uri": "https://localhost:8080/"
        },
        "id": "jZ_kt8cSW1RM",
        "outputId": "d0de7ce5-b586-42bf-d2b9-526a3c1aac4b"
      },
      "execution_count": null,
      "outputs": [
        {
          "output_type": "stream",
          "name": "stderr",
          "text": [
            "[nltk_data] Downloading package punkt to /root/nltk_data...\n",
            "[nltk_data]   Unzipping tokenizers/punkt.zip.\n"
          ]
        },
        {
          "output_type": "execute_result",
          "data": {
            "text/plain": [
              "True"
            ]
          },
          "metadata": {},
          "execution_count": 9
        }
      ]
    },
    {
      "cell_type": "code",
      "source": [
        "import pymorphy2\n",
        "import nltk\n",
        "from nltk.tokenize import sent_tokenize, word_tokenize\n",
        "\n",
        "import time\n",
        "from tqdm import tqdm\n",
        "import re\n",
        "\n",
        "# Обработка текстов\n",
        "morph = pymorphy2.MorphAnalyzer()\n",
        "\n",
        "start = time.time()\n",
        "\n",
        "y_data = []\n",
        "\n",
        "for i in tqdm(range(num_rows)):\n",
        "  s = str(newdf['text'][i])\n",
        "  s1 = re.sub(r\"[,.?“/!@#$1234567890#—ツ►๑۩۞۩•*”˜˜”*°°*`)(]\", '', s)\n",
        "\n",
        "  tokens = word_tokenize(s1)\n",
        "  doc_stem = ''\n",
        "  for j in range(0, len(tokens)):\n",
        "    tokens[j] = morph.parse(tokens[j])[0].normal_form\n",
        "    doc_stem = doc_stem + tokens[j] + ' '\n",
        "\n",
        "  y_data.append(doc_stem)\n",
        "\n",
        "  stop = time.time()\n",
        "\n",
        "print('time of execution (sec)', stop - start)\n"
      ],
      "metadata": {
        "colab": {
          "base_uri": "https://localhost:8080/"
        },
        "id": "46VwjlynDWxM",
        "outputId": "217d3dce-f9fc-4fa4-ef3c-9cbb18ccb2bc"
      },
      "execution_count": null,
      "outputs": [
        {
          "output_type": "stream",
          "name": "stderr",
          "text": [
            "100%|██████████| 5811/5811 [02:17<00:00, 42.13it/s]"
          ]
        },
        {
          "output_type": "stream",
          "name": "stdout",
          "text": [
            "time of execution (sec) 137.93104028701782\n"
          ]
        },
        {
          "output_type": "stream",
          "name": "stderr",
          "text": [
            "\n"
          ]
        }
      ]
    },
    {
      "cell_type": "code",
      "source": [
        "nltk.download('stopwords')"
      ],
      "metadata": {
        "colab": {
          "base_uri": "https://localhost:8080/"
        },
        "id": "EPvk6aM4cTzf",
        "outputId": "5111f804-6dba-4a0f-b700-6e7de774205a"
      },
      "execution_count": null,
      "outputs": [
        {
          "output_type": "stream",
          "name": "stderr",
          "text": [
            "[nltk_data] Downloading package stopwords to /root/nltk_data...\n",
            "[nltk_data]   Unzipping corpora/stopwords.zip.\n"
          ]
        },
        {
          "output_type": "execute_result",
          "data": {
            "text/plain": [
              "True"
            ]
          },
          "metadata": {},
          "execution_count": 11
        }
      ]
    },
    {
      "cell_type": "code",
      "source": [
        "from nltk.corpus import stopwords\n",
        "words = stopwords.words(\"russian\")\n",
        "\n",
        "print('Vectorization of documents')\n",
        "from sklearn.feature_extraction.text import TfidfVectorizer\n",
        "vec = TfidfVectorizer(ngram_range=(1,1),stop_words=(words))\n",
        "\n",
        "data = vec.fit_transform(y_data).toarray()\n",
        "\n",
        "num_docs, num_features = data.shape\n",
        "print('documents number : ', num_docs, 'feature number: ', num_features)"
      ],
      "metadata": {
        "colab": {
          "base_uri": "https://localhost:8080/"
        },
        "id": "itOEOsgZXn0O",
        "outputId": "5f2fc1a0-04bc-452a-f337-ce5d691f5b7d"
      },
      "execution_count": null,
      "outputs": [
        {
          "output_type": "stream",
          "name": "stdout",
          "text": [
            "Vectorization of documents\n",
            "documents number :  5811 feature number:  26352\n"
          ]
        }
      ]
    },
    {
      "cell_type": "code",
      "source": [
        "import pickle\n",
        "with open('vectorizer15.pk', 'wb') as fin:\n",
        "    pickle.dump(vec, fin)"
      ],
      "metadata": {
        "id": "r3AHcuRGjfaO"
      },
      "execution_count": null,
      "outputs": []
    },
    {
      "cell_type": "code",
      "source": [
        "import pickle\n",
        "vectorizer = pickle.load(open(\"vectorizer15.pk\", \"rb\"))\n",
        "data = vectorizer.fit_transform(y_data).toarray()\n",
        "num_docs, num_feature =data.shape\n",
        "print('documents number : ', num_docs, 'feature number: ', num_feature)"
      ],
      "metadata": {
        "colab": {
          "base_uri": "https://localhost:8080/"
        },
        "id": "uY4-TYzWk3yZ",
        "outputId": "7ffa8684-165e-4739-fd91-2a42d9afa08f"
      },
      "execution_count": null,
      "outputs": [
        {
          "output_type": "stream",
          "name": "stdout",
          "text": [
            "documents number :  5811 feature number:  26352\n"
          ]
        }
      ]
    },
    {
      "cell_type": "code",
      "source": [
        "newdata = pd.DataFrame(data=data)\n",
        "print(newdata.shape)\n",
        "newdata = pd.concat([newdata, newdf['category']], axis=1)"
      ],
      "metadata": {
        "id": "bXOsN6_k1TkY"
      },
      "execution_count": null,
      "outputs": []
    },
    {
      "cell_type": "code",
      "source": [
        "newdata['category'].value_counts()"
      ],
      "metadata": {
        "colab": {
          "base_uri": "https://localhost:8080/"
        },
        "id": "3lkZdQ0_8PHh",
        "outputId": "f89bf674-08db-454e-a403-a4ef393b5ce2"
      },
      "execution_count": null,
      "outputs": [
        {
          "output_type": "execute_result",
          "data": {
            "text/plain": [
              "autosport       485\n",
              "martial_arts    470\n",
              "volleyball      457\n",
              "motosport       454\n",
              "esport          451\n",
              "athletics       451\n",
              "tennis          446\n",
              "extreme         441\n",
              "basketball      436\n",
              "boardgames      435\n",
              "winter_sport    434\n",
              "football        427\n",
              "hockey          424\n",
              "Name: category, dtype: int64"
            ]
          },
          "metadata": {},
          "execution_count": 16
        }
      ]
    },
    {
      "cell_type": "code",
      "source": [
        "from sklearn.model_selection import train_test_split\n",
        "Y = newdata['category'].values\n",
        "X = newdata.drop(columns='category')\n",
        "\n",
        "X_train, X_test, y_train, y_test = train_test_split(X, Y, test_size=0.2, random_state=42)\n",
        "\n",
        "print('Test collection size: ', X_test.shape)\n",
        "print('Training collection size: ', X_train.shape)"
      ],
      "metadata": {
        "colab": {
          "base_uri": "https://localhost:8080/"
        },
        "id": "KKwx1Vk4_KVI",
        "outputId": "e6534a18-f7c0-42b6-cb05-4ece15f4196a"
      },
      "execution_count": null,
      "outputs": [
        {
          "output_type": "stream",
          "name": "stdout",
          "text": [
            "Test collection size:  (1163, 26352)\n",
            "Training collection size:  (4648, 26352)\n"
          ]
        }
      ]
    },
    {
      "cell_type": "markdown",
      "source": [
        "1. RandomForestClassifier"
      ],
      "metadata": {
        "id": "Mb5VHn8V1eFT"
      }
    },
    {
      "cell_type": "code",
      "source": [
        "# создаем диапазоны чисел для параметров\n",
        "\n",
        "# Number of trees in random forest\n",
        "n_estimators = [100, 200]\n",
        "# Maximum number of levels in tree\n",
        "max_depth = [5, 7, 10]\n",
        "# Minimum number of samples required to split a node\n",
        "min_samples_split = [2, 5, 10]\n",
        "# Minimum number of samples required at each leaf node\n",
        "min_samples_leaf = [1, 2, 4]"
      ],
      "metadata": {
        "id": "2YA_Aloz_7lG"
      },
      "execution_count": null,
      "outputs": []
    },
    {
      "cell_type": "code",
      "source": [
        "random_grid = {'n_estimators': n_estimators,\n",
        "               'max_depth': max_depth,\n",
        "               'min_samples_split': min_samples_split,\n",
        "               'min_samples_leaf': min_samples_leaf}"
      ],
      "metadata": {
        "id": "HE1wBV5eAAQE"
      },
      "execution_count": null,
      "outputs": []
    },
    {
      "cell_type": "code",
      "source": [
        "from sklearn.model_selection import GridSearchCV\n",
        "from sklearn.model_selection import ShuffleSplit\n",
        "import time\n",
        "from sklearn.ensemble import RandomForestClassifier\n",
        "\n",
        "start = time.time()\n",
        "# define RF with some  parameters\n",
        "myRF = RandomForestClassifier(\n",
        "    n_estimators=50,\n",
        "    criterion='gini',\n",
        "    max_depth=5,\n",
        "    min_samples_split=2,\n",
        "    min_samples_leaf=1,\n",
        "    min_weight_fraction_leaf=0.0,\n",
        "    max_features='log2',\n",
        "    max_leaf_nodes=None,\n",
        "    min_impurity_decrease=0.0,\n",
        "    bootstrap=True,\n",
        "    n_jobs=-1,\n",
        "    random_state=0,\n",
        "    verbose=0,\n",
        "    warm_start=False,\n",
        "    class_weight='balanced')\n",
        "\n",
        "# define type of cross validation\n",
        "mycv = ShuffleSplit(n_splits=2, test_size=0.3, random_state=0)\n",
        "\n",
        "clf = GridSearchCV(myRF, random_grid, cv=mycv)\n",
        "clf.fit(X_train, y_train)\n",
        "\n",
        "# getting best result\n",
        "print(clf.best_params_)\n",
        "print(clf.best_score_)\n",
        "stop = time.time()\n",
        "# results is set lematized documents\n",
        "print('time of execution (sec)', stop - start)"
      ],
      "metadata": {
        "colab": {
          "base_uri": "https://localhost:8080/"
        },
        "id": "87rPePs_ABFV",
        "outputId": "59698c0d-1af0-42b5-d295-28775e5dc8f8"
      },
      "execution_count": null,
      "outputs": [
        {
          "output_type": "stream",
          "name": "stdout",
          "text": [
            "{'max_depth': 10, 'min_samples_leaf': 1, 'min_samples_split': 10, 'n_estimators': 200}\n",
            "0.6351254480286739\n",
            "time of execution (sec) 241.56179475784302\n"
          ]
        }
      ]
    },
    {
      "cell_type": "code",
      "source": [
        "import pickle\n",
        "\n",
        "with open(\"model_up_RF15.pkl\", \"wb\") as f:\n",
        "    pickle.dump(clf, f)"
      ],
      "metadata": {
        "id": "6Hs66qWOBP4j"
      },
      "execution_count": null,
      "outputs": []
    },
    {
      "cell_type": "code",
      "source": [
        "my_label=clf.predict(X_test)"
      ],
      "metadata": {
        "id": "NyMEotTTNwO7"
      },
      "execution_count": null,
      "outputs": []
    },
    {
      "cell_type": "code",
      "source": [
        "from sklearn import metrics\n",
        "from sklearn.metrics import accuracy_score, f1_score, precision_score, recall_score, classification_report, confusion_matrix\n",
        "\n",
        "print(metrics.classification_report(y_test, my_label, zero_division=0))"
      ],
      "metadata": {
        "colab": {
          "base_uri": "https://localhost:8080/"
        },
        "id": "zo-uJKhBAhp4",
        "outputId": "f7e6a52d-6fa3-4099-ab57-0e07635900ef"
      },
      "execution_count": null,
      "outputs": [
        {
          "output_type": "stream",
          "name": "stdout",
          "text": [
            "              precision    recall  f1-score   support\n",
            "\n",
            "   athletics       0.73      0.73      0.73        84\n",
            "   autosport       0.82      0.66      0.73        95\n",
            "  basketball       0.74      0.71      0.73       103\n",
            "  boardgames       0.59      0.85      0.70        88\n",
            "      esport       0.58      0.34      0.43        97\n",
            "     extreme       0.32      0.66      0.43        80\n",
            "    football       0.72      0.55      0.63        76\n",
            "      hockey       0.62      0.62      0.62        80\n",
            "martial_arts       0.76      0.41      0.53        95\n",
            "   motosport       0.75      0.74      0.75        93\n",
            "      tennis       0.80      0.88      0.84        95\n",
            "  volleyball       0.78      0.68      0.73        88\n",
            "winter_sport       0.69      0.70      0.69        89\n",
            "\n",
            "    accuracy                           0.66      1163\n",
            "   macro avg       0.69      0.66      0.66      1163\n",
            "weighted avg       0.69      0.66      0.66      1163\n",
            "\n"
          ]
        }
      ]
    },
    {
      "cell_type": "markdown",
      "source": [
        "2. KNeighborsClassifier"
      ],
      "metadata": {
        "id": "jKbJSGpI1jOm"
      }
    },
    {
      "cell_type": "code",
      "source": [
        "from sklearn.neighbors import KNeighborsClassifier\n",
        "from sklearn.model_selection import ShuffleSplit\n",
        "from sklearn.model_selection import GridSearchCV\n",
        "\n",
        "knn = KNeighborsClassifier()\n",
        "\n",
        "start = time.time()\n",
        "param_grid = [ {'n_neighbors': [1, 3, 7], 'weights': ['uniform','distance'], 'p': [1,2]} ]\n",
        "\n",
        "mycv = ShuffleSplit(n_splits=2, test_size=0.3, random_state=0)\n",
        "clf = GridSearchCV(knn, param_grid, cv=mycv , scoring='f1_macro')\n",
        "\n",
        "clf.fit(X_train, y_train)\n",
        "\n",
        "# getting best result\n",
        "print(clf.best_params_)\n",
        "print(clf.best_score_)\n",
        "stop = time.time()\n",
        "# results is set lematized documents\n",
        "print('time of execution (sec)', stop - start)"
      ],
      "metadata": {
        "colab": {
          "base_uri": "https://localhost:8080/"
        },
        "id": "3UbhU8hDPLpe",
        "outputId": "2962cec1-ac3a-409f-a6d9-56c2664610c2"
      },
      "execution_count": null,
      "outputs": [
        {
          "output_type": "stream",
          "name": "stdout",
          "text": [
            "{'n_neighbors': 7, 'p': 2, 'weights': 'distance'}\n",
            "0.7387712559827849\n",
            "time of execution (sec) 2087.6733961105347\n"
          ]
        }
      ]
    },
    {
      "cell_type": "code",
      "source": [
        "my_label=clf.predict(X_test)"
      ],
      "metadata": {
        "id": "g247D-liRmUr"
      },
      "execution_count": null,
      "outputs": []
    },
    {
      "cell_type": "code",
      "source": [
        "# сравним полученный результат с известными ответами\n",
        "# вывод качества построенной модели\n",
        "print(metrics.classification_report(y_test, my_label, zero_division=0))\n",
        "# create confusion matrix\n",
        "print(metrics.confusion_matrix(y_test, my_label))"
      ],
      "metadata": {
        "colab": {
          "base_uri": "https://localhost:8080/"
        },
        "id": "hJA0E79RSG3p",
        "outputId": "b73de4c9-43cf-453d-b52f-d03999f021fb"
      },
      "execution_count": null,
      "outputs": [
        {
          "output_type": "stream",
          "name": "stdout",
          "text": [
            "              precision    recall  f1-score   support\n",
            "\n",
            "   athletics       0.69      0.81      0.74        84\n",
            "   autosport       0.89      0.76      0.82        95\n",
            "  basketball       0.76      0.79      0.78       103\n",
            "  boardgames       0.88      0.88      0.88        88\n",
            "      esport       0.72      0.65      0.68        97\n",
            "     extreme       0.58      0.56      0.57        80\n",
            "    football       0.71      0.67      0.69        76\n",
            "      hockey       0.75      0.75      0.75        80\n",
            "martial_arts       0.79      0.64      0.71        95\n",
            "   motosport       0.78      0.77      0.78        93\n",
            "      tennis       0.84      0.95      0.89        95\n",
            "  volleyball       0.66      0.84      0.74        88\n",
            "winter_sport       0.82      0.79      0.80        89\n",
            "\n",
            "    accuracy                           0.76      1163\n",
            "   macro avg       0.76      0.76      0.76      1163\n",
            "weighted avg       0.76      0.76      0.76      1163\n",
            "\n",
            "[[68  1  1  0  4  0  1  1  2  1  2  1  2]\n",
            " [ 3 72  2  2  2  3  1  0  0  5  0  5  0]\n",
            " [ 2  1 81  1  1  2  3  6  1  1  0  2  2]\n",
            " [ 1  2  1 77  2  2  0  0  1  1  0  1  0]\n",
            " [ 2  0  6  1 63  7  4  2  1  2  3  5  1]\n",
            " [ 7  1  4  1  9 45  2  2  3  4  0  1  1]\n",
            " [ 3  1  4  1  2  2 51  2  5  0  2  3  0]\n",
            " [ 1  0  1  1  0  1  3 60  0  1  3  6  3]\n",
            " [ 3  0  2  1  1  6  3  3 61  3  7  4  1]\n",
            " [ 1  2  0  1  2  6  3  1  1 72  0  3  1]\n",
            " [ 1  0  1  0  0  0  0  0  0  0 90  2  1]\n",
            " [ 2  0  2  1  1  0  0  3  1  1  0 74  3]\n",
            " [ 5  1  1  1  0  3  1  0  1  1  0  5 70]]\n"
          ]
        }
      ]
    },
    {
      "cell_type": "code",
      "source": [
        "# сохранение обученной модели в файл\n",
        "import pickle\n",
        "\n",
        "with open(\"my_modelKNN15.pkl\", \"wb\") as f:\n",
        "    pickle.dump(clf, f)"
      ],
      "metadata": {
        "id": "26Qd_wiP7Ool"
      },
      "execution_count": null,
      "outputs": []
    },
    {
      "cell_type": "markdown",
      "source": [
        "3. SVC"
      ],
      "metadata": {
        "id": "-j8wrDyw1pKN"
      }
    },
    {
      "cell_type": "code",
      "source": [
        "from sklearn import datasets\n",
        "from sklearn import metrics\n",
        "from sklearn.svm import SVC\n",
        "from sklearn.model_selection import ShuffleSplit\n",
        "from sklearn.model_selection import GridSearchCV\n",
        "\n",
        "start = time.time()\n",
        "# define RF with some  parameters\n",
        "random_grid = [\n",
        "  {'C': [0.1, 10, 100], 'kernel': ['linear']},\n",
        "  {'C': [10, 100], 'kernel': ['rbf']},\n",
        " ]\n",
        "\n",
        "mySVM = SVC(gamma='scale')\n",
        "# define type of cross validation\n",
        "mycv = ShuffleSplit(n_splits=2, test_size=0.3, random_state=0)\n",
        "\n",
        "clf = GridSearchCV(mySVM, random_grid, cv=mycv)\n",
        "clf.fit(X_train, y_train)\n",
        "\n",
        "# getting best result\n",
        "print(clf.best_params_)\n",
        "print(clf.best_score_)\n",
        "stop = time.time()\n",
        "# results is set lematized documents\n",
        "print('time of execution (sec)', stop - start)"
      ],
      "metadata": {
        "id": "o0aBvTgylTxC",
        "colab": {
          "base_uri": "https://localhost:8080/"
        },
        "outputId": "06847e18-9265-488a-9c7d-f16d35bd13f2"
      },
      "execution_count": null,
      "outputs": [
        {
          "output_type": "stream",
          "name": "stdout",
          "text": [
            "{'C': 10, 'kernel': 'linear'}\n",
            "0.7860215053763441\n",
            "time of execution (sec) 6123.19221830368\n"
          ]
        }
      ]
    },
    {
      "cell_type": "code",
      "source": [
        "my_label=clf.predict(X_test)"
      ],
      "metadata": {
        "id": "p4cuJAiJrFEg"
      },
      "execution_count": null,
      "outputs": []
    },
    {
      "cell_type": "code",
      "source": [
        "print(metrics.classification_report(y_test, my_label, zero_division=0))"
      ],
      "metadata": {
        "id": "NekniG6nrJ6u",
        "colab": {
          "base_uri": "https://localhost:8080/"
        },
        "outputId": "669a93f4-3546-4c80-fb01-0b0bab877db4"
      },
      "execution_count": null,
      "outputs": [
        {
          "output_type": "stream",
          "name": "stdout",
          "text": [
            "              precision    recall  f1-score   support\n",
            "\n",
            "   athletics       0.88      0.80      0.84        84\n",
            "   autosport       0.89      0.87      0.88        95\n",
            "  basketball       0.91      0.78      0.84       103\n",
            "  boardgames       0.93      0.89      0.91        88\n",
            "      esport       0.69      0.78      0.73        97\n",
            "     extreme       0.42      0.74      0.53        80\n",
            "    football       0.74      0.82      0.78        76\n",
            "      hockey       0.92      0.71      0.80        80\n",
            "martial_arts       0.74      0.69      0.72        95\n",
            "   motosport       0.90      0.80      0.85        93\n",
            "      tennis       0.99      0.92      0.95        95\n",
            "  volleyball       0.87      0.78      0.83        88\n",
            "winter_sport       0.84      0.82      0.83        89\n",
            "\n",
            "    accuracy                           0.80      1163\n",
            "   macro avg       0.82      0.80      0.81      1163\n",
            "weighted avg       0.83      0.80      0.81      1163\n",
            "\n"
          ]
        }
      ]
    },
    {
      "cell_type": "code",
      "source": [
        "import pickle\n",
        "\n",
        "with open(\"my_modelSVM15.pkl\", \"wb\") as f:\n",
        "    pickle.dump(clf, f)"
      ],
      "metadata": {
        "id": "Adeb8a0g7eCp"
      },
      "execution_count": null,
      "outputs": []
    },
    {
      "cell_type": "markdown",
      "source": [
        "### Датасет test"
      ],
      "metadata": {
        "id": "0JP3OVj8rjwG"
      }
    },
    {
      "cell_type": "code",
      "source": [
        "print('Dataset size', test.shape)\n",
        "\n",
        "num_rows, num_feature = test.shape\n",
        "\n",
        "print('row number: ', num_rows)\n",
        "print('feature number: ', num_feature)\n",
        "print()\n",
        "print('names of features: ', list(test))"
      ],
      "metadata": {
        "id": "cdKUbdPDrXSQ",
        "colab": {
          "base_uri": "https://localhost:8080/"
        },
        "outputId": "40313d0b-c594-4959-89da-0485a9ad4f76"
      },
      "execution_count": null,
      "outputs": [
        {
          "output_type": "stream",
          "name": "stdout",
          "text": [
            "Dataset size (26260, 2)\n",
            "row number:  26260\n",
            "feature number:  2\n",
            "\n",
            "names of features:  ['oid', 'text']\n"
          ]
        }
      ]
    },
    {
      "cell_type": "code",
      "source": [
        "# Обработка текстов\n",
        "\n",
        "morph = pymorphy2.MorphAnalyzer()\n",
        "\n",
        "start = time.time()\n",
        "\n",
        "y_data1 = []\n",
        "\n",
        "for i in tqdm(range(num_rows)):\n",
        "    s = str(test['text'][i])\n",
        "    s1 = re.sub(r\"[,.?“/!@#$1234567890#—ツ►๑۩۞۩•*”˜˜”*°°*`)(]\", '', s)\n",
        "\n",
        "    tokens = word_tokenize(s1)\n",
        "    doc_stem=''\n",
        "    for j in range(0,len(tokens)):\n",
        "        tokens[j] = morph.parse(tokens[j])[0].normal_form\n",
        "        doc_stem = doc_stem + tokens[j] + ' '\n",
        "\n",
        "    y_data1.append(doc_stem)\n",
        "\n",
        "stop = time.time()\n",
        "print('time of execution (sec)', stop - start)"
      ],
      "metadata": {
        "id": "fM43qAjpsIMG",
        "colab": {
          "base_uri": "https://localhost:8080/"
        },
        "outputId": "cb32bad9-15b4-42ee-8ba0-72be3e1d8034"
      },
      "execution_count": null,
      "outputs": [
        {
          "output_type": "stream",
          "name": "stderr",
          "text": [
            "100%|██████████| 26260/26260 [07:17<00:00, 60.04it/s]"
          ]
        },
        {
          "output_type": "stream",
          "name": "stdout",
          "text": [
            "time of execution (sec) 437.37292075157166\n"
          ]
        },
        {
          "output_type": "stream",
          "name": "stderr",
          "text": [
            "\n"
          ]
        }
      ]
    },
    {
      "cell_type": "code",
      "source": [
        "print('Vectorization of documents')\n",
        "\n",
        "data1 = vectorizer.transform(y_data1).toarray()\n",
        "\n",
        "num_docs, num_feature =data1.shape\n",
        "print('documents number : ', num_docs, 'feature number: ', num_feature)"
      ],
      "metadata": {
        "id": "Y5QZmoutsiS0",
        "colab": {
          "base_uri": "https://localhost:8080/"
        },
        "outputId": "04b71cee-06ae-4ee6-c5f8-d04e6ff01217"
      },
      "execution_count": null,
      "outputs": [
        {
          "output_type": "stream",
          "name": "stdout",
          "text": [
            "Vectorization of documents\n",
            "documents number :  26260 feature number:  26352\n"
          ]
        }
      ]
    },
    {
      "cell_type": "markdown",
      "source": [
        "Так как SVM дал наивысший accuracy, делаем предсказания с помощью него. Также можно отметить, что все классы по отдельности тоже предсказываются хорошо."
      ],
      "metadata": {
        "id": "maGKBoTILV88"
      }
    },
    {
      "cell_type": "code",
      "source": [
        "with open(\"my_modelSVM15.pkl\", \"rb\") as f:\n",
        "    modelSVM = pickle.load(f)"
      ],
      "metadata": {
        "id": "OZdb_xuq8Pu2"
      },
      "execution_count": null,
      "outputs": []
    },
    {
      "cell_type": "code",
      "source": [
        "predictedSVM = modelSVM.predict(data1)"
      ],
      "metadata": {
        "id": "KVtC8rhN8QTA"
      },
      "execution_count": null,
      "outputs": []
    },
    {
      "cell_type": "code",
      "source": [
        "test"
      ],
      "metadata": {
        "colab": {
          "base_uri": "https://localhost:8080/",
          "height": 424
        },
        "id": "wjTTuMygKrfX",
        "outputId": "1a0bae12-6e6e-4bb2-ffc1-754f88df8a8d"
      },
      "execution_count": null,
      "outputs": [
        {
          "output_type": "execute_result",
          "data": {
            "text/plain": [
              "             oid                                               text\n",
              "0      749208109  СПОЧНО СООБЩЕСТВО ПРОДАЕТСЯ ЗА 1300Р ЗА ПОКУПК...\n",
              "1      452466036  Естественное восстановление после тяжелой трен...\n",
              "2      161038103  Тема нарядов продолжается Одна из британских ж...\n",
              "3      663621910  Привет Избранный. Ты спрашиваешь себя ЧТО здес...\n",
              "4      566255305  КОРОЛЬ ПЯТИСОТНИКОВ В ДЕЛЕ Андрей Рублев успеш...\n",
              "...          ...                                                ...\n",
              "26255  169728316  Выиграй коллекционный пазл по Wortokenoid of W...\n",
              "26256  279369911  Волейбол от первого лица Егора Пупынина переко...\n",
              "26257  600699419  Вы были когда нибудь на свидании где вам задав...\n",
              "26258  560223506  ТОП 20 самых эффективных общефизических упражн...\n",
              "26259  724673712  Присылайте ваши беговые фото в комментарии к э...\n",
              "\n",
              "[26260 rows x 2 columns]"
            ],
            "text/html": [
              "\n",
              "  <div id=\"df-b401201d-4b26-40bb-8eb2-d399dc6eda59\" class=\"colab-df-container\">\n",
              "    <div>\n",
              "<style scoped>\n",
              "    .dataframe tbody tr th:only-of-type {\n",
              "        vertical-align: middle;\n",
              "    }\n",
              "\n",
              "    .dataframe tbody tr th {\n",
              "        vertical-align: top;\n",
              "    }\n",
              "\n",
              "    .dataframe thead th {\n",
              "        text-align: right;\n",
              "    }\n",
              "</style>\n",
              "<table border=\"1\" class=\"dataframe\">\n",
              "  <thead>\n",
              "    <tr style=\"text-align: right;\">\n",
              "      <th></th>\n",
              "      <th>oid</th>\n",
              "      <th>text</th>\n",
              "    </tr>\n",
              "  </thead>\n",
              "  <tbody>\n",
              "    <tr>\n",
              "      <th>0</th>\n",
              "      <td>749208109</td>\n",
              "      <td>СПОЧНО СООБЩЕСТВО ПРОДАЕТСЯ ЗА 1300Р ЗА ПОКУПК...</td>\n",
              "    </tr>\n",
              "    <tr>\n",
              "      <th>1</th>\n",
              "      <td>452466036</td>\n",
              "      <td>Естественное восстановление после тяжелой трен...</td>\n",
              "    </tr>\n",
              "    <tr>\n",
              "      <th>2</th>\n",
              "      <td>161038103</td>\n",
              "      <td>Тема нарядов продолжается Одна из британских ж...</td>\n",
              "    </tr>\n",
              "    <tr>\n",
              "      <th>3</th>\n",
              "      <td>663621910</td>\n",
              "      <td>Привет Избранный. Ты спрашиваешь себя ЧТО здес...</td>\n",
              "    </tr>\n",
              "    <tr>\n",
              "      <th>4</th>\n",
              "      <td>566255305</td>\n",
              "      <td>КОРОЛЬ ПЯТИСОТНИКОВ В ДЕЛЕ Андрей Рублев успеш...</td>\n",
              "    </tr>\n",
              "    <tr>\n",
              "      <th>...</th>\n",
              "      <td>...</td>\n",
              "      <td>...</td>\n",
              "    </tr>\n",
              "    <tr>\n",
              "      <th>26255</th>\n",
              "      <td>169728316</td>\n",
              "      <td>Выиграй коллекционный пазл по Wortokenoid of W...</td>\n",
              "    </tr>\n",
              "    <tr>\n",
              "      <th>26256</th>\n",
              "      <td>279369911</td>\n",
              "      <td>Волейбол от первого лица Егора Пупынина переко...</td>\n",
              "    </tr>\n",
              "    <tr>\n",
              "      <th>26257</th>\n",
              "      <td>600699419</td>\n",
              "      <td>Вы были когда нибудь на свидании где вам задав...</td>\n",
              "    </tr>\n",
              "    <tr>\n",
              "      <th>26258</th>\n",
              "      <td>560223506</td>\n",
              "      <td>ТОП 20 самых эффективных общефизических упражн...</td>\n",
              "    </tr>\n",
              "    <tr>\n",
              "      <th>26259</th>\n",
              "      <td>724673712</td>\n",
              "      <td>Присылайте ваши беговые фото в комментарии к э...</td>\n",
              "    </tr>\n",
              "  </tbody>\n",
              "</table>\n",
              "<p>26260 rows × 2 columns</p>\n",
              "</div>\n",
              "    <div class=\"colab-df-buttons\">\n",
              "\n",
              "  <div class=\"colab-df-container\">\n",
              "    <button class=\"colab-df-convert\" onclick=\"convertToInteractive('df-b401201d-4b26-40bb-8eb2-d399dc6eda59')\"\n",
              "            title=\"Convert this dataframe to an interactive table.\"\n",
              "            style=\"display:none;\">\n",
              "\n",
              "  <svg xmlns=\"http://www.w3.org/2000/svg\" height=\"24px\" viewBox=\"0 -960 960 960\">\n",
              "    <path d=\"M120-120v-720h720v720H120Zm60-500h600v-160H180v160Zm220 220h160v-160H400v160Zm0 220h160v-160H400v160ZM180-400h160v-160H180v160Zm440 0h160v-160H620v160ZM180-180h160v-160H180v160Zm440 0h160v-160H620v160Z\"/>\n",
              "  </svg>\n",
              "    </button>\n",
              "\n",
              "  <style>\n",
              "    .colab-df-container {\n",
              "      display:flex;\n",
              "      gap: 12px;\n",
              "    }\n",
              "\n",
              "    .colab-df-convert {\n",
              "      background-color: #E8F0FE;\n",
              "      border: none;\n",
              "      border-radius: 50%;\n",
              "      cursor: pointer;\n",
              "      display: none;\n",
              "      fill: #1967D2;\n",
              "      height: 32px;\n",
              "      padding: 0 0 0 0;\n",
              "      width: 32px;\n",
              "    }\n",
              "\n",
              "    .colab-df-convert:hover {\n",
              "      background-color: #E2EBFA;\n",
              "      box-shadow: 0px 1px 2px rgba(60, 64, 67, 0.3), 0px 1px 3px 1px rgba(60, 64, 67, 0.15);\n",
              "      fill: #174EA6;\n",
              "    }\n",
              "\n",
              "    .colab-df-buttons div {\n",
              "      margin-bottom: 4px;\n",
              "    }\n",
              "\n",
              "    [theme=dark] .colab-df-convert {\n",
              "      background-color: #3B4455;\n",
              "      fill: #D2E3FC;\n",
              "    }\n",
              "\n",
              "    [theme=dark] .colab-df-convert:hover {\n",
              "      background-color: #434B5C;\n",
              "      box-shadow: 0px 1px 3px 1px rgba(0, 0, 0, 0.15);\n",
              "      filter: drop-shadow(0px 1px 2px rgba(0, 0, 0, 0.3));\n",
              "      fill: #FFFFFF;\n",
              "    }\n",
              "  </style>\n",
              "\n",
              "    <script>\n",
              "      const buttonEl =\n",
              "        document.querySelector('#df-b401201d-4b26-40bb-8eb2-d399dc6eda59 button.colab-df-convert');\n",
              "      buttonEl.style.display =\n",
              "        google.colab.kernel.accessAllowed ? 'block' : 'none';\n",
              "\n",
              "      async function convertToInteractive(key) {\n",
              "        const element = document.querySelector('#df-b401201d-4b26-40bb-8eb2-d399dc6eda59');\n",
              "        const dataTable =\n",
              "          await google.colab.kernel.invokeFunction('convertToInteractive',\n",
              "                                                    [key], {});\n",
              "        if (!dataTable) return;\n",
              "\n",
              "        const docLinkHtml = 'Like what you see? Visit the ' +\n",
              "          '<a target=\"_blank\" href=https://colab.research.google.com/notebooks/data_table.ipynb>data table notebook</a>'\n",
              "          + ' to learn more about interactive tables.';\n",
              "        element.innerHTML = '';\n",
              "        dataTable['output_type'] = 'display_data';\n",
              "        await google.colab.output.renderOutput(dataTable, element);\n",
              "        const docLink = document.createElement('div');\n",
              "        docLink.innerHTML = docLinkHtml;\n",
              "        element.appendChild(docLink);\n",
              "      }\n",
              "    </script>\n",
              "  </div>\n",
              "\n",
              "\n",
              "<div id=\"df-eb3f7229-1bb9-4ea5-ae3a-35dde5e46932\">\n",
              "  <button class=\"colab-df-quickchart\" onclick=\"quickchart('df-eb3f7229-1bb9-4ea5-ae3a-35dde5e46932')\"\n",
              "            title=\"Suggest charts\"\n",
              "            style=\"display:none;\">\n",
              "\n",
              "<svg xmlns=\"http://www.w3.org/2000/svg\" height=\"24px\"viewBox=\"0 0 24 24\"\n",
              "     width=\"24px\">\n",
              "    <g>\n",
              "        <path d=\"M19 3H5c-1.1 0-2 .9-2 2v14c0 1.1.9 2 2 2h14c1.1 0 2-.9 2-2V5c0-1.1-.9-2-2-2zM9 17H7v-7h2v7zm4 0h-2V7h2v10zm4 0h-2v-4h2v4z\"/>\n",
              "    </g>\n",
              "</svg>\n",
              "  </button>\n",
              "\n",
              "<style>\n",
              "  .colab-df-quickchart {\n",
              "      --bg-color: #E8F0FE;\n",
              "      --fill-color: #1967D2;\n",
              "      --hover-bg-color: #E2EBFA;\n",
              "      --hover-fill-color: #174EA6;\n",
              "      --disabled-fill-color: #AAA;\n",
              "      --disabled-bg-color: #DDD;\n",
              "  }\n",
              "\n",
              "  [theme=dark] .colab-df-quickchart {\n",
              "      --bg-color: #3B4455;\n",
              "      --fill-color: #D2E3FC;\n",
              "      --hover-bg-color: #434B5C;\n",
              "      --hover-fill-color: #FFFFFF;\n",
              "      --disabled-bg-color: #3B4455;\n",
              "      --disabled-fill-color: #666;\n",
              "  }\n",
              "\n",
              "  .colab-df-quickchart {\n",
              "    background-color: var(--bg-color);\n",
              "    border: none;\n",
              "    border-radius: 50%;\n",
              "    cursor: pointer;\n",
              "    display: none;\n",
              "    fill: var(--fill-color);\n",
              "    height: 32px;\n",
              "    padding: 0;\n",
              "    width: 32px;\n",
              "  }\n",
              "\n",
              "  .colab-df-quickchart:hover {\n",
              "    background-color: var(--hover-bg-color);\n",
              "    box-shadow: 0 1px 2px rgba(60, 64, 67, 0.3), 0 1px 3px 1px rgba(60, 64, 67, 0.15);\n",
              "    fill: var(--button-hover-fill-color);\n",
              "  }\n",
              "\n",
              "  .colab-df-quickchart-complete:disabled,\n",
              "  .colab-df-quickchart-complete:disabled:hover {\n",
              "    background-color: var(--disabled-bg-color);\n",
              "    fill: var(--disabled-fill-color);\n",
              "    box-shadow: none;\n",
              "  }\n",
              "\n",
              "  .colab-df-spinner {\n",
              "    border: 2px solid var(--fill-color);\n",
              "    border-color: transparent;\n",
              "    border-bottom-color: var(--fill-color);\n",
              "    animation:\n",
              "      spin 1s steps(1) infinite;\n",
              "  }\n",
              "\n",
              "  @keyframes spin {\n",
              "    0% {\n",
              "      border-color: transparent;\n",
              "      border-bottom-color: var(--fill-color);\n",
              "      border-left-color: var(--fill-color);\n",
              "    }\n",
              "    20% {\n",
              "      border-color: transparent;\n",
              "      border-left-color: var(--fill-color);\n",
              "      border-top-color: var(--fill-color);\n",
              "    }\n",
              "    30% {\n",
              "      border-color: transparent;\n",
              "      border-left-color: var(--fill-color);\n",
              "      border-top-color: var(--fill-color);\n",
              "      border-right-color: var(--fill-color);\n",
              "    }\n",
              "    40% {\n",
              "      border-color: transparent;\n",
              "      border-right-color: var(--fill-color);\n",
              "      border-top-color: var(--fill-color);\n",
              "    }\n",
              "    60% {\n",
              "      border-color: transparent;\n",
              "      border-right-color: var(--fill-color);\n",
              "    }\n",
              "    80% {\n",
              "      border-color: transparent;\n",
              "      border-right-color: var(--fill-color);\n",
              "      border-bottom-color: var(--fill-color);\n",
              "    }\n",
              "    90% {\n",
              "      border-color: transparent;\n",
              "      border-bottom-color: var(--fill-color);\n",
              "    }\n",
              "  }\n",
              "</style>\n",
              "\n",
              "  <script>\n",
              "    async function quickchart(key) {\n",
              "      const quickchartButtonEl =\n",
              "        document.querySelector('#' + key + ' button');\n",
              "      quickchartButtonEl.disabled = true;  // To prevent multiple clicks.\n",
              "      quickchartButtonEl.classList.add('colab-df-spinner');\n",
              "      try {\n",
              "        const charts = await google.colab.kernel.invokeFunction(\n",
              "            'suggestCharts', [key], {});\n",
              "      } catch (error) {\n",
              "        console.error('Error during call to suggestCharts:', error);\n",
              "      }\n",
              "      quickchartButtonEl.classList.remove('colab-df-spinner');\n",
              "      quickchartButtonEl.classList.add('colab-df-quickchart-complete');\n",
              "    }\n",
              "    (() => {\n",
              "      let quickchartButtonEl =\n",
              "        document.querySelector('#df-eb3f7229-1bb9-4ea5-ae3a-35dde5e46932 button');\n",
              "      quickchartButtonEl.style.display =\n",
              "        google.colab.kernel.accessAllowed ? 'block' : 'none';\n",
              "    })();\n",
              "  </script>\n",
              "</div>\n",
              "    </div>\n",
              "  </div>\n"
            ],
            "application/vnd.google.colaboratory.intrinsic+json": {
              "type": "dataframe",
              "variable_name": "test",
              "summary": "{\n  \"name\": \"test\",\n  \"rows\": 26260,\n  \"fields\": [\n    {\n      \"column\": \"oid\",\n      \"properties\": {\n        \"dtype\": \"number\",\n        \"std\": 285834857,\n        \"min\": 1622114,\n        \"max\": 999374432,\n        \"num_unique_values\": 2626,\n        \"samples\": [\n          203609815,\n          189606914,\n          698146809\n        ],\n        \"semantic_type\": \"\",\n        \"description\": \"\"\n      }\n    },\n    {\n      \"column\": \"text\",\n      \"properties\": {\n        \"dtype\": \"string\",\n        \"num_unique_values\": 24833,\n        \"samples\": [\n          \"\\u041d\\u0430\\u0434\\u0435\\u0436\\u0434\\u0430 \\u041f\\u0435\\u0442\\u0440\\u043e\\u0432\\u0430 \\u041f\\u043e\\u0431\\u0435\\u0434\\u0430 \\u0425\\u0430\\u0447\\u0430\\u043d\\u043e\\u0432\\u0430 \\u043d\\u0430\\u0434 \\u041a\\u0438\\u0440\\u0433\\u0438\\u043e\\u0441\\u043e\\u043c \\u043d\\u0435 \\u0443\\u0434\\u0438\\u0432\\u0438\\u043b\\u0430. \\u041d\\u043e \\u0438\\u0441\\u0445\\u043e\\u0434 \\u0435\\u0433\\u043e \\u043c\\u0430\\u0442\\u0447\\u0430 \\u0441 \\u0420\\u0443\\u0443\\u0434\\u043e\\u043c \\u0432\\u044b\\u0437\\u044b\\u0432\\u0430\\u0435\\u0442 \\u0431\\u0435\\u0441\\u043f\\u043e\\u043a\\u043e\\u0439\\u0441\\u0442\\u0432\\u043e \\u0422\\u0435\\u043d\\u043d\\u0438\\u0441\\u0438\\u0441\\u0442\\u043a\\u0430 \\u043f\\u043e\\u0434\\u0432\\u0435\\u043b\\u0430 \\u0438\\u0442\\u043e\\u0433\\u0438 \\u043c\\u0443\\u0436\\u0441\\u043a\\u0438\\u0445 \\u0438 \\u0436\\u0435\\u043d\\u0441\\u043a\\u0438\\u0445 \\u0447\\u0435\\u0442\\u0432\\u0435\\u0440\\u0442\\u044c\\u0444\\u0438\\u043d\\u0430\\u043b\\u043e\\u0432 \\u0432 \\u044d\\u043a\\u0441\\u043a\\u043b\\u044e\\u0437\\u0438\\u0432\\u043d\\u043e\\u043c \\u0438\\u043d\\u0442\\u0435\\u0440\\u0432\\u044c\\u044e \\u041f\\u043e\\u0440\\u0442\\u0430\\u043b\\u0443 tokentokenoid\",\n          \"\\u0421\\u0430\\u043b\\u0430\\u0432\\u0430\\u0442 \\u042e\\u043b\\u0430\\u0435\\u0432 \\u0445\\u043e\\u0447\\u0435\\u0442 \\u043f\\u043e\\u043b\\u0443\\u0447\\u0438\\u0442\\u044c \\u043a\\u043e\\u043c\\u043f\\u0435\\u043d\\u0441\\u0430\\u0446\\u0438\\u044e \\u043e\\u0442 \\u0412\\u0438\\u043a\\u0442\\u043e\\u0440\\u0430 \\u0422\\u0438\\u0445\\u043e\\u043d\\u043e\\u0432\\u0430 \\u0421\\u0430\\u043b\\u0430\\u0432\\u0430\\u0442 \\u042e\\u043b\\u0430\\u0435\\u0432 \\u0432\\u0435\\u0434\\u0435\\u0442 \\u043f\\u0435\\u0440\\u0435\\u0433\\u043e\\u0432\\u043e\\u0440\\u044b \\u0441 \\u043d\\u0430\\u043f\\u0430\\u0434\\u0430\\u044e\\u0449\\u0438\\u043c \\u0412\\u0438\\u043a\\u0442\\u043e\\u0440\\u043e\\u043c \\u0422\\u0438\\u0445\\u043e\\u043d\\u043e\\u0432\\u044b\\u043c \\u0447\\u0442\\u043e\\u0431\\u044b \\u0440\\u0435\\u0448\\u0438\\u0442\\u044c \\u0441 \\u043d\\u0438\\u043c \\u0432\\u043e\\u043f\\u0440\\u043e\\u0441 \\u0432 \\u0440\\u0430\\u043c\\u043a\\u0430\\u0445 \\u0441\\u043e\\u0433\\u043b\\u0430\\u0448\\u0435\\u043d\\u0438\\u044f \\u043e \\u0440\\u0430\\u0437\\u0440\\u044b\\u0432\\u0435 \\u043a\\u043e\\u043d\\u0442\\u0440\\u0430\\u043a\\u0442\\u0430. \\u0420\\u0430\\u043d\\u0435\\u0435 \\u0441\\u043e\\u043e\\u0431\\u0449\\u0430\\u043b\\u043e\\u0441\\u044c \\u0447\\u0442\\u043e \\u0443\\u0444\\u0438\\u043c\\u0441\\u043a\\u0438\\u0439 \\u043a\\u043b\\u0443\\u0431 \\u0438\\u043c\\u0435\\u0435\\u0442 \\u043f\\u0440\\u0435\\u0442\\u0435\\u043d\\u0437\\u0438\\u0438 \\u043a \\u0438\\u0433\\u0440\\u043e\\u043a\\u0443 \\u043e\\u0431\\u044a\\u044f\\u0432\\u0438\\u0432\\u0448\\u0435\\u043c\\u0443 \\u043e \\u0437\\u0430\\u0432\\u0435\\u0440\\u0448\\u0435\\u043d\\u0438\\u0438 \\u043a\\u0430\\u0440\\u044c\\u0435\\u0440\\u044b \\u043f\\u0440\\u0438 \\u0434\\u0435\\u0439\\u0441\\u0442\\u0432\\u0443\\u044e\\u0449\\u0435\\u043c \\u043a\\u043e\\u043d\\u0442\\u0440\\u0430\\u043a\\u0442\\u0435 \\u043d\\u0430 \\u0441\\u043b\\u0435\\u0434\\u0443\\u044e\\u0449\\u0438\\u0439 \\u0441\\u0435\\u0437\\u043e\\u043d. \\u041c\\u044b \\u0441\\u0435\\u0439\\u0447\\u0430\\u0441 \\u0432\\u0435\\u0434\\u0435\\u043c \\u043f\\u0435\\u0440\\u0435\\u0433\\u043e\\u0432\\u043e\\u0440\\u044b \\u0441\\u043e \\u0441\\u0442\\u043e\\u0440\\u043e\\u043d\\u043e\\u0439 \\u0412\\u0438\\u043a\\u0442\\u043e\\u0440\\u0430 \\u0422\\u0438\\u0445\\u043e\\u043d\\u043e\\u0432\\u0430. \\u0415\\u0441\\u0442\\u044c \\u043f\\u0440\\u043e\\u0435\\u043a\\u0442 \\u0441\\u043e\\u0433\\u043b\\u0430\\u0448\\u0435\\u043d\\u0438\\u044f \\u043a\\u043e\\u0442\\u043e\\u0440\\u044b\\u0439 \\u0443\\u0441\\u0442\\u0440\\u0430\\u0438\\u0432\\u0430\\u0435\\u0442 \\u0432\\u0441\\u0435\\u0445. \\u041c\\u044b \\u0436\\u0434\\u0435\\u043c \\u043a\\u043e\\u0433\\u0434\\u0430 \\u0431\\u0443\\u0434\\u0443\\u0442 \\u0438\\u0441\\u043f\\u043e\\u043b\\u043d\\u0435\\u043d\\u044b \\u043e\\u0431\\u044f\\u0437\\u0430\\u0442\\u0435\\u043b\\u044c\\u0441\\u0442\\u0432\\u0430 \\u0438\\u0433\\u0440\\u043e\\u043a\\u043e\\u043c \\u043f\\u043e \\u044d\\u0442\\u043e\\u043c\\u0443 \\u0434\\u043e\\u0433\\u043e\\u0432\\u043e\\u0440\\u0443 \\u0441\\u0432\\u044f\\u0437\\u0430\\u043d\\u043d\\u044b\\u0435 \\u0441 \\u0432\\u044b\\u043f\\u043b\\u0430\\u0442\\u043e\\u0439 \\u043a\\u043e\\u043c\\u043f\\u0440\\u043e\\u043c\\u0438\\u0441\\u0441\\u043d\\u043e\\u0439 \\u0434\\u0435\\u043d\\u0435\\u0436\\u043d\\u043e\\u0439 \\u043a\\u043e\\u043c\\u043f\\u0435\\u043d\\u0441\\u0430\\u0446\\u0438\\u0438. \\u0418 \\u043e\\u043d\\u0430 \\u043c\\u0435\\u043d\\u044c\\u0448\\u0435 \\u0441\\u0443\\u043c\\u043c\\u044b \\u043f\\u043e\\u043b\\u043e\\u0436\\u0435\\u043d\\u043d\\u043e\\u0439 \\u043f\\u043e \\u043a\\u043e\\u043d\\u0442\\u0440\\u0430\\u043a\\u0442\\u0443 \\u0438\\u0433\\u0440\\u043e\\u043a\\u0430 \\u0437\\u0430 \\u0431\\u0443\\u0434\\u0443\\u0449\\u0438\\u0439 \\u0441\\u0435\\u0437\\u043e\\u043d. \\u0412\\u0435\\u0440\\u0438\\u043c \\u0447\\u0442\\u043e \\u043c\\u044b \\u0437\\u0430\\u043a\\u0440\\u043e\\u0435\\u043c \\u044d\\u0442\\u043e\\u0442 \\u0432\\u043e\\u043f\\u0440\\u043e\\u0441 \\u0432 \\u043c\\u0438\\u0440\\u043d\\u043e\\u043c \\u0440\\u0443\\u0441\\u043b\\u0435 \\u0438 \\u0434\\u043e\\u0433\\u043e\\u0432\\u043e\\u0440 \\u0441 \\u0422\\u0438\\u0445\\u043e\\u043d\\u043e\\u0432\\u044b\\u043c \\u0437\\u0430 \\u0441\\u0435\\u0437\\u043e\\u043d 2022 23 \\u0431\\u0443\\u0434\\u0435\\u0442 \\u0440\\u0430\\u0441\\u0442\\u043e\\u0440\\u0433\\u043d\\u0443\\u0442 \\u043f\\u043e \\u043e\\u0431\\u043e\\u044e\\u0434\\u043d\\u043e\\u043c\\u0443 \\u0441\\u043e\\u0433\\u043b\\u0430\\u0441\\u0438\\u044e \\u0441\\u0442\\u043e\\u0440\\u043e\\u043d \\u2013 \\u0441\\u043e\\u043e\\u0431\\u0449\\u0438\\u043b \\u041c\\u0430\\u0442\\u0447 \\u0422\\u0412 \\u0438\\u0441\\u0442\\u043e\\u0447\\u043d\\u0438\\u043a \\u0432 \\u0431\\u0430\\u0448\\u043a\\u043e\\u0440\\u0442\\u043e\\u0441\\u0442\\u0430\\u043d\\u0441\\u043a\\u043e\\u043c \\u043a\\u043b\\u0443\\u0431\\u0435. \\u0421\\u0430\\u043b\\u0430\\u0432\\u0430\\u0442 \\u042e\\u043b\\u0430\\u0435\\u0432 \\u043d\\u0430\\u0447\\u0430\\u043b \\u0441\\u0431\\u043e\\u0440\\u044b \\u0432 \\u0423\\u0444\\u0435 \\u043d\\u043e \\u0422\\u0438\\u0445\\u043e\\u043d\\u043e\\u0432 \\u043d\\u0435 \\u043f\\u0440\\u0438\\u0431\\u044b\\u043b \\u0432 \\u0440\\u0430\\u0441\\u043f\\u043e\\u043b\\u043e\\u0436\\u0435\\u043d\\u0438\\u0435 \\u043a\\u043e\\u043c\\u0430\\u043d\\u0434\\u044b. \\u0418\\u0441\\u0442\\u043e\\u0447\\u043d\\u0438\\u043a \\u0421\\u043f\\u043e\\u0440\\u0442 \\u0411\\u0438\\u0437\\u043d\\u0435\\u0441 Ontokenoid\",\n          \"Vtokenoid \\u0432\\u043e\\u0437\\u0432\\u0440\\u0430\\u0449\\u0430\\u044e\\u0442\\u0441\\u044f \\u0432 \\u043f\\u0435\\u0440\\u0432\\u0443\\u044e \\u0434\\u0435\\u0441\\u044f\\u0442\\u043a\\u0443 \\u043c\\u0438\\u0440\\u043e\\u0432\\u043e\\u0433\\u043e \\u0440\\u0435\\u0439\\u0442\\u0438\\u043d\\u0433\\u0430 \\u043a\\u043e\\u043c\\u0430\\u043d\\u0434 \\u043f\\u043e CS GO \\u0432 \\u0442\\u043e \\u0432\\u0440\\u0435\\u043c\\u044f \\u043a\\u0430\\u043a G2 \\u0432 \\u043f\\u0435\\u0440\\u0432\\u0443\\u044e \\u043f\\u044f\\u0442\\u0435\\u0440\\u043a\\u0443 \\u041f\\u043e\\u043b\\u043d\\u044b\\u0439 \\u0440\\u0435\\u0439\\u0442\\u0438\\u043d\\u0433 tokentokenoid\"\n        ],\n        \"semantic_type\": \"\",\n        \"description\": \"\"\n      }\n    }\n  ]\n}"
            }
          },
          "metadata": {},
          "execution_count": 46
        }
      ]
    },
    {
      "cell_type": "code",
      "source": [
        "import copy\n",
        "submit = copy.deepcopy(test)\n",
        "\n",
        "submit=submit.drop(['text'], axis=1)\n",
        "\n",
        "submit['category'] = predictedSVM"
      ],
      "metadata": {
        "id": "fh6elkH9KzGB"
      },
      "execution_count": null,
      "outputs": []
    },
    {
      "cell_type": "code",
      "source": [
        "submit"
      ],
      "metadata": {
        "colab": {
          "base_uri": "https://localhost:8080/",
          "height": 424
        },
        "id": "rmVv_ShJLunc",
        "outputId": "8d3bd383-9e4a-4878-e8da-11722d9d52a3"
      },
      "execution_count": null,
      "outputs": [
        {
          "output_type": "execute_result",
          "data": {
            "text/plain": [
              "             oid      category\n",
              "0      749208109        esport\n",
              "1      452466036  martial_arts\n",
              "2      161038103       extreme\n",
              "3      663621910        esport\n",
              "4      566255305        tennis\n",
              "...          ...           ...\n",
              "26255  169728316    boardgames\n",
              "26256  279369911    volleyball\n",
              "26257  600699419    boardgames\n",
              "26258  560223506  martial_arts\n",
              "26259  724673712     athletics\n",
              "\n",
              "[26260 rows x 2 columns]"
            ],
            "text/html": [
              "\n",
              "  <div id=\"df-d5a00f32-0c58-4351-ac4e-66d0066590c9\" class=\"colab-df-container\">\n",
              "    <div>\n",
              "<style scoped>\n",
              "    .dataframe tbody tr th:only-of-type {\n",
              "        vertical-align: middle;\n",
              "    }\n",
              "\n",
              "    .dataframe tbody tr th {\n",
              "        vertical-align: top;\n",
              "    }\n",
              "\n",
              "    .dataframe thead th {\n",
              "        text-align: right;\n",
              "    }\n",
              "</style>\n",
              "<table border=\"1\" class=\"dataframe\">\n",
              "  <thead>\n",
              "    <tr style=\"text-align: right;\">\n",
              "      <th></th>\n",
              "      <th>oid</th>\n",
              "      <th>category</th>\n",
              "    </tr>\n",
              "  </thead>\n",
              "  <tbody>\n",
              "    <tr>\n",
              "      <th>0</th>\n",
              "      <td>749208109</td>\n",
              "      <td>esport</td>\n",
              "    </tr>\n",
              "    <tr>\n",
              "      <th>1</th>\n",
              "      <td>452466036</td>\n",
              "      <td>martial_arts</td>\n",
              "    </tr>\n",
              "    <tr>\n",
              "      <th>2</th>\n",
              "      <td>161038103</td>\n",
              "      <td>extreme</td>\n",
              "    </tr>\n",
              "    <tr>\n",
              "      <th>3</th>\n",
              "      <td>663621910</td>\n",
              "      <td>esport</td>\n",
              "    </tr>\n",
              "    <tr>\n",
              "      <th>4</th>\n",
              "      <td>566255305</td>\n",
              "      <td>tennis</td>\n",
              "    </tr>\n",
              "    <tr>\n",
              "      <th>...</th>\n",
              "      <td>...</td>\n",
              "      <td>...</td>\n",
              "    </tr>\n",
              "    <tr>\n",
              "      <th>26255</th>\n",
              "      <td>169728316</td>\n",
              "      <td>boardgames</td>\n",
              "    </tr>\n",
              "    <tr>\n",
              "      <th>26256</th>\n",
              "      <td>279369911</td>\n",
              "      <td>volleyball</td>\n",
              "    </tr>\n",
              "    <tr>\n",
              "      <th>26257</th>\n",
              "      <td>600699419</td>\n",
              "      <td>boardgames</td>\n",
              "    </tr>\n",
              "    <tr>\n",
              "      <th>26258</th>\n",
              "      <td>560223506</td>\n",
              "      <td>martial_arts</td>\n",
              "    </tr>\n",
              "    <tr>\n",
              "      <th>26259</th>\n",
              "      <td>724673712</td>\n",
              "      <td>athletics</td>\n",
              "    </tr>\n",
              "  </tbody>\n",
              "</table>\n",
              "<p>26260 rows × 2 columns</p>\n",
              "</div>\n",
              "    <div class=\"colab-df-buttons\">\n",
              "\n",
              "  <div class=\"colab-df-container\">\n",
              "    <button class=\"colab-df-convert\" onclick=\"convertToInteractive('df-d5a00f32-0c58-4351-ac4e-66d0066590c9')\"\n",
              "            title=\"Convert this dataframe to an interactive table.\"\n",
              "            style=\"display:none;\">\n",
              "\n",
              "  <svg xmlns=\"http://www.w3.org/2000/svg\" height=\"24px\" viewBox=\"0 -960 960 960\">\n",
              "    <path d=\"M120-120v-720h720v720H120Zm60-500h600v-160H180v160Zm220 220h160v-160H400v160Zm0 220h160v-160H400v160ZM180-400h160v-160H180v160Zm440 0h160v-160H620v160ZM180-180h160v-160H180v160Zm440 0h160v-160H620v160Z\"/>\n",
              "  </svg>\n",
              "    </button>\n",
              "\n",
              "  <style>\n",
              "    .colab-df-container {\n",
              "      display:flex;\n",
              "      gap: 12px;\n",
              "    }\n",
              "\n",
              "    .colab-df-convert {\n",
              "      background-color: #E8F0FE;\n",
              "      border: none;\n",
              "      border-radius: 50%;\n",
              "      cursor: pointer;\n",
              "      display: none;\n",
              "      fill: #1967D2;\n",
              "      height: 32px;\n",
              "      padding: 0 0 0 0;\n",
              "      width: 32px;\n",
              "    }\n",
              "\n",
              "    .colab-df-convert:hover {\n",
              "      background-color: #E2EBFA;\n",
              "      box-shadow: 0px 1px 2px rgba(60, 64, 67, 0.3), 0px 1px 3px 1px rgba(60, 64, 67, 0.15);\n",
              "      fill: #174EA6;\n",
              "    }\n",
              "\n",
              "    .colab-df-buttons div {\n",
              "      margin-bottom: 4px;\n",
              "    }\n",
              "\n",
              "    [theme=dark] .colab-df-convert {\n",
              "      background-color: #3B4455;\n",
              "      fill: #D2E3FC;\n",
              "    }\n",
              "\n",
              "    [theme=dark] .colab-df-convert:hover {\n",
              "      background-color: #434B5C;\n",
              "      box-shadow: 0px 1px 3px 1px rgba(0, 0, 0, 0.15);\n",
              "      filter: drop-shadow(0px 1px 2px rgba(0, 0, 0, 0.3));\n",
              "      fill: #FFFFFF;\n",
              "    }\n",
              "  </style>\n",
              "\n",
              "    <script>\n",
              "      const buttonEl =\n",
              "        document.querySelector('#df-d5a00f32-0c58-4351-ac4e-66d0066590c9 button.colab-df-convert');\n",
              "      buttonEl.style.display =\n",
              "        google.colab.kernel.accessAllowed ? 'block' : 'none';\n",
              "\n",
              "      async function convertToInteractive(key) {\n",
              "        const element = document.querySelector('#df-d5a00f32-0c58-4351-ac4e-66d0066590c9');\n",
              "        const dataTable =\n",
              "          await google.colab.kernel.invokeFunction('convertToInteractive',\n",
              "                                                    [key], {});\n",
              "        if (!dataTable) return;\n",
              "\n",
              "        const docLinkHtml = 'Like what you see? Visit the ' +\n",
              "          '<a target=\"_blank\" href=https://colab.research.google.com/notebooks/data_table.ipynb>data table notebook</a>'\n",
              "          + ' to learn more about interactive tables.';\n",
              "        element.innerHTML = '';\n",
              "        dataTable['output_type'] = 'display_data';\n",
              "        await google.colab.output.renderOutput(dataTable, element);\n",
              "        const docLink = document.createElement('div');\n",
              "        docLink.innerHTML = docLinkHtml;\n",
              "        element.appendChild(docLink);\n",
              "      }\n",
              "    </script>\n",
              "  </div>\n",
              "\n",
              "\n",
              "<div id=\"df-2c179271-b96d-44f6-a819-95c95bb58e9c\">\n",
              "  <button class=\"colab-df-quickchart\" onclick=\"quickchart('df-2c179271-b96d-44f6-a819-95c95bb58e9c')\"\n",
              "            title=\"Suggest charts\"\n",
              "            style=\"display:none;\">\n",
              "\n",
              "<svg xmlns=\"http://www.w3.org/2000/svg\" height=\"24px\"viewBox=\"0 0 24 24\"\n",
              "     width=\"24px\">\n",
              "    <g>\n",
              "        <path d=\"M19 3H5c-1.1 0-2 .9-2 2v14c0 1.1.9 2 2 2h14c1.1 0 2-.9 2-2V5c0-1.1-.9-2-2-2zM9 17H7v-7h2v7zm4 0h-2V7h2v10zm4 0h-2v-4h2v4z\"/>\n",
              "    </g>\n",
              "</svg>\n",
              "  </button>\n",
              "\n",
              "<style>\n",
              "  .colab-df-quickchart {\n",
              "      --bg-color: #E8F0FE;\n",
              "      --fill-color: #1967D2;\n",
              "      --hover-bg-color: #E2EBFA;\n",
              "      --hover-fill-color: #174EA6;\n",
              "      --disabled-fill-color: #AAA;\n",
              "      --disabled-bg-color: #DDD;\n",
              "  }\n",
              "\n",
              "  [theme=dark] .colab-df-quickchart {\n",
              "      --bg-color: #3B4455;\n",
              "      --fill-color: #D2E3FC;\n",
              "      --hover-bg-color: #434B5C;\n",
              "      --hover-fill-color: #FFFFFF;\n",
              "      --disabled-bg-color: #3B4455;\n",
              "      --disabled-fill-color: #666;\n",
              "  }\n",
              "\n",
              "  .colab-df-quickchart {\n",
              "    background-color: var(--bg-color);\n",
              "    border: none;\n",
              "    border-radius: 50%;\n",
              "    cursor: pointer;\n",
              "    display: none;\n",
              "    fill: var(--fill-color);\n",
              "    height: 32px;\n",
              "    padding: 0;\n",
              "    width: 32px;\n",
              "  }\n",
              "\n",
              "  .colab-df-quickchart:hover {\n",
              "    background-color: var(--hover-bg-color);\n",
              "    box-shadow: 0 1px 2px rgba(60, 64, 67, 0.3), 0 1px 3px 1px rgba(60, 64, 67, 0.15);\n",
              "    fill: var(--button-hover-fill-color);\n",
              "  }\n",
              "\n",
              "  .colab-df-quickchart-complete:disabled,\n",
              "  .colab-df-quickchart-complete:disabled:hover {\n",
              "    background-color: var(--disabled-bg-color);\n",
              "    fill: var(--disabled-fill-color);\n",
              "    box-shadow: none;\n",
              "  }\n",
              "\n",
              "  .colab-df-spinner {\n",
              "    border: 2px solid var(--fill-color);\n",
              "    border-color: transparent;\n",
              "    border-bottom-color: var(--fill-color);\n",
              "    animation:\n",
              "      spin 1s steps(1) infinite;\n",
              "  }\n",
              "\n",
              "  @keyframes spin {\n",
              "    0% {\n",
              "      border-color: transparent;\n",
              "      border-bottom-color: var(--fill-color);\n",
              "      border-left-color: var(--fill-color);\n",
              "    }\n",
              "    20% {\n",
              "      border-color: transparent;\n",
              "      border-left-color: var(--fill-color);\n",
              "      border-top-color: var(--fill-color);\n",
              "    }\n",
              "    30% {\n",
              "      border-color: transparent;\n",
              "      border-left-color: var(--fill-color);\n",
              "      border-top-color: var(--fill-color);\n",
              "      border-right-color: var(--fill-color);\n",
              "    }\n",
              "    40% {\n",
              "      border-color: transparent;\n",
              "      border-right-color: var(--fill-color);\n",
              "      border-top-color: var(--fill-color);\n",
              "    }\n",
              "    60% {\n",
              "      border-color: transparent;\n",
              "      border-right-color: var(--fill-color);\n",
              "    }\n",
              "    80% {\n",
              "      border-color: transparent;\n",
              "      border-right-color: var(--fill-color);\n",
              "      border-bottom-color: var(--fill-color);\n",
              "    }\n",
              "    90% {\n",
              "      border-color: transparent;\n",
              "      border-bottom-color: var(--fill-color);\n",
              "    }\n",
              "  }\n",
              "</style>\n",
              "\n",
              "  <script>\n",
              "    async function quickchart(key) {\n",
              "      const quickchartButtonEl =\n",
              "        document.querySelector('#' + key + ' button');\n",
              "      quickchartButtonEl.disabled = true;  // To prevent multiple clicks.\n",
              "      quickchartButtonEl.classList.add('colab-df-spinner');\n",
              "      try {\n",
              "        const charts = await google.colab.kernel.invokeFunction(\n",
              "            'suggestCharts', [key], {});\n",
              "      } catch (error) {\n",
              "        console.error('Error during call to suggestCharts:', error);\n",
              "      }\n",
              "      quickchartButtonEl.classList.remove('colab-df-spinner');\n",
              "      quickchartButtonEl.classList.add('colab-df-quickchart-complete');\n",
              "    }\n",
              "    (() => {\n",
              "      let quickchartButtonEl =\n",
              "        document.querySelector('#df-2c179271-b96d-44f6-a819-95c95bb58e9c button');\n",
              "      quickchartButtonEl.style.display =\n",
              "        google.colab.kernel.accessAllowed ? 'block' : 'none';\n",
              "    })();\n",
              "  </script>\n",
              "</div>\n",
              "    </div>\n",
              "  </div>\n"
            ],
            "application/vnd.google.colaboratory.intrinsic+json": {
              "type": "dataframe",
              "variable_name": "submit",
              "summary": "{\n  \"name\": \"submit\",\n  \"rows\": 26260,\n  \"fields\": [\n    {\n      \"column\": \"oid\",\n      \"properties\": {\n        \"dtype\": \"number\",\n        \"std\": 285834857,\n        \"min\": 1622114,\n        \"max\": 999374432,\n        \"num_unique_values\": 2626,\n        \"samples\": [\n          203609815,\n          189606914,\n          698146809\n        ],\n        \"semantic_type\": \"\",\n        \"description\": \"\"\n      }\n    },\n    {\n      \"column\": \"category\",\n      \"properties\": {\n        \"dtype\": \"category\",\n        \"num_unique_values\": 13,\n        \"samples\": [\n          \"basketball\",\n          \"hockey\",\n          \"esport\"\n        ],\n        \"semantic_type\": \"\",\n        \"description\": \"\"\n      }\n    }\n  ]\n}"
            }
          },
          "metadata": {},
          "execution_count": 56
        }
      ]
    },
    {
      "cell_type": "code",
      "source": [
        "submit.to_csv('submission_file.csv', index=False)"
      ],
      "metadata": {
        "id": "BBMc3Z7hLyVP"
      },
      "execution_count": null,
      "outputs": []
    }
  ]
}